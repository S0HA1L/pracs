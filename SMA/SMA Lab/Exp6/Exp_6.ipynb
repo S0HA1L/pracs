{
  "cells": [
    {
      "attachments": {},
      "cell_type": "markdown",
      "metadata": {
        "id": "CBSrtxJGC5Th"
      },
      "source": [
        "#### **SMA LAB**\n",
        "\n",
        "Name - SAYYED SOHAIL RASHID <br>\n",
        "Roll No. - 18CO48<br>\n",
        "Class - BECO<br>\n",
        "Batch - I<br>\n",
        "\n",
        "# **Experiment No. 6**\n",
        "\n"
      ]
    },
    {
      "cell_type": "markdown",
      "metadata": {
        "id": "D5MWdqgXMdrJ"
      },
      "source": [
        "FaceBook Network Data Analytics Steps:\n",
        "1. Load FaceBook Friends network data set.\n",
        "2. Compute degree, betweenness, edge, eigenvector\n",
        "centrality.\n",
        "3. Find Communities in the network using Network.\n",
        "4. Find bridges in the Facebook Nework Dataset."
      ]
    },
    {
      "cell_type": "code",
      "execution_count": 3,
      "metadata": {
        "colab": {
          "base_uri": "https://localhost:8080/"
        },
        "id": "3imAnHS6SOOK",
        "outputId": "c08e6ed6-73bf-4e99-b017-c71d907f4d54"
      },
      "outputs": [
        {
          "name": "stdout",
          "output_type": "stream",
          "text": [
            "Looking in indexes: https://pypi.org/simple, https://us-python.pkg.dev/colab-wheels/public/simple/\n",
            "Requirement already satisfied: pandas in /usr/local/lib/python3.9/dist-packages (1.4.4)\n",
            "Requirement already satisfied: pytz>=2020.1 in /usr/local/lib/python3.9/dist-packages (from pandas) (2022.7.1)\n",
            "Requirement already satisfied: python-dateutil>=2.8.1 in /usr/local/lib/python3.9/dist-packages (from pandas) (2.8.2)\n",
            "Requirement already satisfied: numpy>=1.18.5 in /usr/local/lib/python3.9/dist-packages (from pandas) (1.22.4)\n",
            "Requirement already satisfied: six>=1.5 in /usr/local/lib/python3.9/dist-packages (from python-dateutil>=2.8.1->pandas) (1.16.0)\n"
          ]
        }
      ],
      "source": [
        "!pip install pandas"
      ]
    },
    {
      "cell_type": "code",
      "execution_count": 4,
      "metadata": {
        "colab": {
          "base_uri": "https://localhost:8080/"
        },
        "id": "aasw9RD_SUnQ",
        "outputId": "43477c77-2d1d-4542-ddb2-bd37670f0a00"
      },
      "outputs": [
        {
          "name": "stdout",
          "output_type": "stream",
          "text": [
            "Looking in indexes: https://pypi.org/simple, https://us-python.pkg.dev/colab-wheels/public/simple/\n",
            "Requirement already satisfied: networkx in /usr/local/lib/python3.9/dist-packages (2.6.3)\n"
          ]
        }
      ],
      "source": [
        "!pip install networkx"
      ]
    },
    {
      "cell_type": "code",
      "execution_count": 5,
      "metadata": {
        "id": "1i_oLgQFMy_O"
      },
      "outputs": [],
      "source": [
        "import pandas as pd\n",
        "import networkx as nx\n"
      ]
    },
    {
      "cell_type": "code",
      "execution_count": 6,
      "metadata": {
        "colab": {
          "base_uri": "https://localhost:8080/",
          "height": 618
        },
        "id": "FgUlIJzzNAtk",
        "outputId": "913a69cc-bc0c-439d-dc12-fb71cba62407"
      },
      "outputs": [
        {
          "data": {
            "text/html": [
              "\n",
              "  <div id=\"df-37b094fd-c012-490a-8a26-1f7f20c2273c\">\n",
              "    <div class=\"colab-df-container\">\n",
              "      <div>\n",
              "<style scoped>\n",
              "    .dataframe tbody tr th:only-of-type {\n",
              "        vertical-align: middle;\n",
              "    }\n",
              "\n",
              "    .dataframe tbody tr th {\n",
              "        vertical-align: top;\n",
              "    }\n",
              "\n",
              "    .dataframe thead th {\n",
              "        text-align: right;\n",
              "    }\n",
              "</style>\n",
              "<table border=\"1\" class=\"dataframe\">\n",
              "  <thead>\n",
              "    <tr style=\"text-align: right;\">\n",
              "      <th></th>\n",
              "      <th>TweetId</th>\n",
              "      <th>Text</th>\n",
              "      <th>Username</th>\n",
              "      <th>Language</th>\n",
              "      <th>Hashtags</th>\n",
              "      <th>ReplyCount</th>\n",
              "      <th>RetweetCount</th>\n",
              "      <th>LikeCount</th>\n",
              "      <th>QuoteCount</th>\n",
              "      <th>Media</th>\n",
              "      <th>Hour</th>\n",
              "      <th>Year</th>\n",
              "      <th>Month</th>\n",
              "      <th>MonthName</th>\n",
              "      <th>MonthDay</th>\n",
              "      <th>DayName</th>\n",
              "      <th>Week</th>\n",
              "      <th>Date</th>\n",
              "      <th>Time</th>\n",
              "    </tr>\n",
              "  </thead>\n",
              "  <tbody>\n",
              "    <tr>\n",
              "      <th>0</th>\n",
              "      <td>1641446994534338570</td>\n",
              "      <td>📅 It's 3/30 aka #A330 Day! Flying on routes fr...</td>\n",
              "      <td>Airbus</td>\n",
              "      <td>en</td>\n",
              "      <td>['A330', 'A330']</td>\n",
              "      <td>7</td>\n",
              "      <td>43</td>\n",
              "      <td>254</td>\n",
              "      <td>6</td>\n",
              "      <td>[Video(thumbnailUrl='https://pbs.twimg.com/med...</td>\n",
              "      <td>14</td>\n",
              "      <td>2023</td>\n",
              "      <td>3</td>\n",
              "      <td>March</td>\n",
              "      <td>30</td>\n",
              "      <td>Thursday</td>\n",
              "      <td>13</td>\n",
              "      <td>2023-03-30</td>\n",
              "      <td>14:27:14</td>\n",
              "    </tr>\n",
              "    <tr>\n",
              "      <th>1</th>\n",
              "      <td>1641402184444137473</td>\n",
              "      <td>📅 What day is it? It's 3/30 aka #A330 Day! Fin...</td>\n",
              "      <td>Airbus</td>\n",
              "      <td>en</td>\n",
              "      <td>['A330', 'A330neo', 'Airspace']</td>\n",
              "      <td>9</td>\n",
              "      <td>49</td>\n",
              "      <td>318</td>\n",
              "      <td>8</td>\n",
              "      <td>[Video(thumbnailUrl='https://pbs.twimg.com/med...</td>\n",
              "      <td>11</td>\n",
              "      <td>2023</td>\n",
              "      <td>3</td>\n",
              "      <td>March</td>\n",
              "      <td>30</td>\n",
              "      <td>Thursday</td>\n",
              "      <td>13</td>\n",
              "      <td>2023-03-30</td>\n",
              "      <td>11:29:11</td>\n",
              "    </tr>\n",
              "    <tr>\n",
              "      <th>2</th>\n",
              "      <td>1641356455637925893</td>\n",
              "      <td>📅 What day is it? It's 3/30 aka #A330 Day! In ...</td>\n",
              "      <td>Airbus</td>\n",
              "      <td>en</td>\n",
              "      <td>['A330']</td>\n",
              "      <td>5</td>\n",
              "      <td>67</td>\n",
              "      <td>414</td>\n",
              "      <td>8</td>\n",
              "      <td>[Video(thumbnailUrl='https://pbs.twimg.com/med...</td>\n",
              "      <td>8</td>\n",
              "      <td>2023</td>\n",
              "      <td>3</td>\n",
              "      <td>March</td>\n",
              "      <td>30</td>\n",
              "      <td>Thursday</td>\n",
              "      <td>13</td>\n",
              "      <td>2023-03-30</td>\n",
              "      <td>08:27:28</td>\n",
              "    </tr>\n",
              "    <tr>\n",
              "      <th>3</th>\n",
              "      <td>1641005811777282049</td>\n",
              "      <td>Welcome on board @Lufthansa! Great to see you ...</td>\n",
              "      <td>Airbus</td>\n",
              "      <td>en</td>\n",
              "      <td>['FirstMoversCoalition']</td>\n",
              "      <td>5</td>\n",
              "      <td>18</td>\n",
              "      <td>203</td>\n",
              "      <td>1</td>\n",
              "      <td>NaN</td>\n",
              "      <td>9</td>\n",
              "      <td>2023</td>\n",
              "      <td>3</td>\n",
              "      <td>March</td>\n",
              "      <td>29</td>\n",
              "      <td>Wednesday</td>\n",
              "      <td>13</td>\n",
              "      <td>2023-03-29</td>\n",
              "      <td>09:14:08</td>\n",
              "    </tr>\n",
              "    <tr>\n",
              "      <th>4</th>\n",
              "      <td>1638182807410298881</td>\n",
              "      <td>What do Airbus and #Paralympic fencer @maximev...</td>\n",
              "      <td>Airbus</td>\n",
              "      <td>en</td>\n",
              "      <td>['Paralympic']</td>\n",
              "      <td>2</td>\n",
              "      <td>12</td>\n",
              "      <td>87</td>\n",
              "      <td>0</td>\n",
              "      <td>[Photo(previewUrl='https://pbs.twimg.com/media...</td>\n",
              "      <td>14</td>\n",
              "      <td>2023</td>\n",
              "      <td>3</td>\n",
              "      <td>March</td>\n",
              "      <td>21</td>\n",
              "      <td>Tuesday</td>\n",
              "      <td>12</td>\n",
              "      <td>2023-03-21</td>\n",
              "      <td>14:16:31</td>\n",
              "    </tr>\n",
              "  </tbody>\n",
              "</table>\n",
              "</div>\n",
              "      <button class=\"colab-df-convert\" onclick=\"convertToInteractive('df-37b094fd-c012-490a-8a26-1f7f20c2273c')\"\n",
              "              title=\"Convert this dataframe to an interactive table.\"\n",
              "              style=\"display:none;\">\n",
              "        \n",
              "  <svg xmlns=\"http://www.w3.org/2000/svg\" height=\"24px\"viewBox=\"0 0 24 24\"\n",
              "       width=\"24px\">\n",
              "    <path d=\"M0 0h24v24H0V0z\" fill=\"none\"/>\n",
              "    <path d=\"M18.56 5.44l.94 2.06.94-2.06 2.06-.94-2.06-.94-.94-2.06-.94 2.06-2.06.94zm-11 1L8.5 8.5l.94-2.06 2.06-.94-2.06-.94L8.5 2.5l-.94 2.06-2.06.94zm10 10l.94 2.06.94-2.06 2.06-.94-2.06-.94-.94-2.06-.94 2.06-2.06.94z\"/><path d=\"M17.41 7.96l-1.37-1.37c-.4-.4-.92-.59-1.43-.59-.52 0-1.04.2-1.43.59L10.3 9.45l-7.72 7.72c-.78.78-.78 2.05 0 2.83L4 21.41c.39.39.9.59 1.41.59.51 0 1.02-.2 1.41-.59l7.78-7.78 2.81-2.81c.8-.78.8-2.07 0-2.86zM5.41 20L4 18.59l7.72-7.72 1.47 1.35L5.41 20z\"/>\n",
              "  </svg>\n",
              "      </button>\n",
              "      \n",
              "  <style>\n",
              "    .colab-df-container {\n",
              "      display:flex;\n",
              "      flex-wrap:wrap;\n",
              "      gap: 12px;\n",
              "    }\n",
              "\n",
              "    .colab-df-convert {\n",
              "      background-color: #E8F0FE;\n",
              "      border: none;\n",
              "      border-radius: 50%;\n",
              "      cursor: pointer;\n",
              "      display: none;\n",
              "      fill: #1967D2;\n",
              "      height: 32px;\n",
              "      padding: 0 0 0 0;\n",
              "      width: 32px;\n",
              "    }\n",
              "\n",
              "    .colab-df-convert:hover {\n",
              "      background-color: #E2EBFA;\n",
              "      box-shadow: 0px 1px 2px rgba(60, 64, 67, 0.3), 0px 1px 3px 1px rgba(60, 64, 67, 0.15);\n",
              "      fill: #174EA6;\n",
              "    }\n",
              "\n",
              "    [theme=dark] .colab-df-convert {\n",
              "      background-color: #3B4455;\n",
              "      fill: #D2E3FC;\n",
              "    }\n",
              "\n",
              "    [theme=dark] .colab-df-convert:hover {\n",
              "      background-color: #434B5C;\n",
              "      box-shadow: 0px 1px 3px 1px rgba(0, 0, 0, 0.15);\n",
              "      filter: drop-shadow(0px 1px 2px rgba(0, 0, 0, 0.3));\n",
              "      fill: #FFFFFF;\n",
              "    }\n",
              "  </style>\n",
              "\n",
              "      <script>\n",
              "        const buttonEl =\n",
              "          document.querySelector('#df-37b094fd-c012-490a-8a26-1f7f20c2273c button.colab-df-convert');\n",
              "        buttonEl.style.display =\n",
              "          google.colab.kernel.accessAllowed ? 'block' : 'none';\n",
              "\n",
              "        async function convertToInteractive(key) {\n",
              "          const element = document.querySelector('#df-37b094fd-c012-490a-8a26-1f7f20c2273c');\n",
              "          const dataTable =\n",
              "            await google.colab.kernel.invokeFunction('convertToInteractive',\n",
              "                                                     [key], {});\n",
              "          if (!dataTable) return;\n",
              "\n",
              "          const docLinkHtml = 'Like what you see? Visit the ' +\n",
              "            '<a target=\"_blank\" href=https://colab.research.google.com/notebooks/data_table.ipynb>data table notebook</a>'\n",
              "            + ' to learn more about interactive tables.';\n",
              "          element.innerHTML = '';\n",
              "          dataTable['output_type'] = 'display_data';\n",
              "          await google.colab.output.renderOutput(dataTable, element);\n",
              "          const docLink = document.createElement('div');\n",
              "          docLink.innerHTML = docLinkHtml;\n",
              "          element.appendChild(docLink);\n",
              "        }\n",
              "      </script>\n",
              "    </div>\n",
              "  </div>\n",
              "  "
            ],
            "text/plain": [
              "               TweetId                                               Text  \\\n",
              "0  1641446994534338570  📅 It's 3/30 aka #A330 Day! Flying on routes fr...   \n",
              "1  1641402184444137473  📅 What day is it? It's 3/30 aka #A330 Day! Fin...   \n",
              "2  1641356455637925893  📅 What day is it? It's 3/30 aka #A330 Day! In ...   \n",
              "3  1641005811777282049  Welcome on board @Lufthansa! Great to see you ...   \n",
              "4  1638182807410298881  What do Airbus and #Paralympic fencer @maximev...   \n",
              "\n",
              "  Username Language                         Hashtags  ReplyCount  \\\n",
              "0   Airbus       en                 ['A330', 'A330']           7   \n",
              "1   Airbus       en  ['A330', 'A330neo', 'Airspace']           9   \n",
              "2   Airbus       en                         ['A330']           5   \n",
              "3   Airbus       en         ['FirstMoversCoalition']           5   \n",
              "4   Airbus       en                   ['Paralympic']           2   \n",
              "\n",
              "   RetweetCount  LikeCount  QuoteCount  \\\n",
              "0            43        254           6   \n",
              "1            49        318           8   \n",
              "2            67        414           8   \n",
              "3            18        203           1   \n",
              "4            12         87           0   \n",
              "\n",
              "                                               Media  Hour  Year  Month  \\\n",
              "0  [Video(thumbnailUrl='https://pbs.twimg.com/med...    14  2023      3   \n",
              "1  [Video(thumbnailUrl='https://pbs.twimg.com/med...    11  2023      3   \n",
              "2  [Video(thumbnailUrl='https://pbs.twimg.com/med...     8  2023      3   \n",
              "3                                                NaN     9  2023      3   \n",
              "4  [Photo(previewUrl='https://pbs.twimg.com/media...    14  2023      3   \n",
              "\n",
              "  MonthName  MonthDay    DayName  Week        Date      Time  \n",
              "0     March        30   Thursday    13  2023-03-30  14:27:14  \n",
              "1     March        30   Thursday    13  2023-03-30  11:29:11  \n",
              "2     March        30   Thursday    13  2023-03-30  08:27:28  \n",
              "3     March        29  Wednesday    13  2023-03-29  09:14:08  \n",
              "4     March        21    Tuesday    12  2023-03-21  14:16:31  "
            ]
          },
          "execution_count": 6,
          "metadata": {},
          "output_type": "execute_result"
        }
      ],
      "source": [
        "df=pd.read_csv(\"/content/2022-04-11_2023-04-11_Airbus.csv\")\n",
        "df. head( )"
      ]
    },
    {
      "cell_type": "code",
      "execution_count": 7,
      "metadata": {
        "colab": {
          "base_uri": "https://localhost:8080/"
        },
        "id": "ef85g7SBQmVP",
        "outputId": "4d0176ad-5e8e-46c4-e7f7-65b1cbd4f8d9"
      },
      "outputs": [
        {
          "data": {
            "text/plain": [
              "networkx.classes.graph.Graph"
            ]
          },
          "execution_count": 7,
          "metadata": {},
          "output_type": "execute_result"
        }
      ],
      "source": [
        "# Load edge list\n",
        "#age and dob_year is my attribute ,you please add your dataset attributes\n",
        "fb_graph=nx.from_pandas_edgelist(df,source=\"Date\", target=\"ReplyCount\")\n",
        "type(fb_graph)"
      ]
    },
    {
      "cell_type": "code",
      "execution_count": 8,
      "metadata": {
        "colab": {
          "base_uri": "https://localhost:8080/"
        },
        "id": "qRDxaJYvRf2j",
        "outputId": "bca74094-5b88-4d74-eee7-3b3ca505d696"
      },
      "outputs": [
        {
          "data": {
            "text/plain": [
              "NodeView(('2023-03-30', 7, 9, 5, '2023-03-29', '2023-03-21', 2, '2023-03-20', 4, '2023-03-17', 1, 16, '2023-03-16', 0, '2023-03-15', 17, '2023-03-10', 27, '2023-03-09', 10, 11, 15, '2023-03-07', 6, 12, '2023-03-04', 19, '2023-03-03', '2023-03-02', 23, '2023-02-27', '2023-02-24', '2023-02-23', 22, '2023-02-20', 8, '2023-02-16', 3, '2023-02-13', '2023-02-11', 13, '2023-02-10', '2023-02-07', '2023-02-01', '2023-01-31', '2023-01-30', '2023-01-27', '2023-01-24', '2023-01-23', '2023-01-19', 29, '2023-01-16', '2023-01-12', '2023-01-11', 306, '2023-01-03', '2022-12-20', 14, 18, '2022-12-13', 32, 20, '2022-12-07', 87, 48, '2022-12-06', '2022-12-02', '2022-12-01', '2022-11-30', 35, '2022-11-29', '2022-11-28', '2022-11-25', '2022-11-23', '2022-11-22', '2022-11-21', '2022-11-18', '2022-11-17', 44, '2022-11-15', '2022-11-08', '2022-11-03', '2022-11-02', '2022-10-31', '2022-10-28', 34, '2022-10-25', '2022-10-21', '2022-10-17', 37, '2022-10-13', 50, '2022-10-11', '2022-10-10', '2022-10-06', '2022-10-04', 24, '2022-09-30', '2022-09-23', '2022-09-22', '2022-09-21', '2022-09-15', '2022-09-13', '2022-09-08', '2022-09-07', '2022-09-01', '2022-08-22', '2022-08-15', '2022-08-10', 64, '2022-08-08', '2022-08-04', '2022-08-03', '2022-07-28', '2022-07-25', '2022-07-22', '2022-07-21', '2022-07-20', '2022-07-19', 28, '2022-07-18', '2022-07-17', '2022-07-16', '2022-07-15', '2022-07-14', '2022-07-13', '2022-07-12', '2022-07-08', '2022-06-24', '2022-06-23', '2022-06-22', '2022-06-17', '2022-06-15', 61, '2022-06-08', '2022-06-02', '2022-05-31', '2022-05-30', '2022-05-23', '2022-05-21', '2022-05-20', '2022-05-10', '2022-05-09', '2022-05-06', '2022-05-05', '2022-05-03', '2022-05-02', 25, '2022-04-26', '2022-04-23', '2022-04-20', '2022-04-15'))"
            ]
          },
          "execution_count": 8,
          "metadata": {},
          "output_type": "execute_result"
        }
      ],
      "source": [
        "#display all the nodes\n",
        "fb_graph.nodes()"
      ]
    },
    {
      "cell_type": "code",
      "execution_count": 9,
      "metadata": {
        "colab": {
          "base_uri": "https://localhost:8080/"
        },
        "id": "5RJ5a3daRxs9",
        "outputId": "a16c5aff-3987-43db-aa29-d47b9f01ec4c"
      },
      "outputs": [
        {
          "data": {
            "text/plain": [
              "EdgeView([('2023-03-30', 7), ('2023-03-30', 9), ('2023-03-30', 5), (7, '2023-03-20'), (7, '2022-12-13'), (7, '2022-09-08'), (7, '2022-07-28'), (7, '2022-05-23'), (9, '2023-03-03'), (9, '2023-02-27'), (9, '2023-01-23'), (9, '2022-10-31'), (9, '2022-09-22'), (9, '2022-09-08'), (9, '2022-07-22'), (9, '2022-07-21'), (9, '2022-07-19'), (9, '2022-06-22'), (9, '2022-06-08'), (5, '2023-03-29'), (5, '2023-03-20'), (5, '2023-02-23'), (5, '2022-07-22'), (5, '2022-07-19'), (5, '2022-07-16'), (5, '2022-06-24'), (5, '2022-06-02'), ('2023-03-21', 2), (2, '2023-03-09'), (2, '2023-02-20'), (2, '2023-02-01'), (2, '2023-01-27'), (2, '2023-01-12'), (2, '2022-11-30'), (2, '2022-11-23'), (2, '2022-11-17'), (2, '2022-11-02'), (2, '2022-10-04'), (2, '2022-09-13'), (2, '2022-09-07'), (2, '2022-08-15'), (2, '2022-07-21'), (2, '2022-07-20'), (2, '2022-07-18'), (2, '2022-07-15'), (2, '2022-06-15'), (2, '2022-05-31'), (2, '2022-05-30'), (2, '2022-05-10'), (2, '2022-05-05'), ('2023-03-20', 4), (4, '2023-03-16'), (4, '2023-03-09'), (4, '2023-01-31'), (4, '2023-01-30'), (4, '2023-01-11'), (4, '2022-11-22'), (4, '2022-11-08'), (4, '2022-08-08'), (4, '2022-07-20'), (4, '2022-07-18'), (4, '2022-07-12'), (4, '2022-06-23'), (4, '2022-06-17'), (4, '2022-05-20'), (4, '2022-05-06'), ('2023-03-17', 1), ('2023-03-17', 16), (1, '2023-03-10'), (1, '2023-01-12'), (1, '2022-12-01'), (1, '2022-11-30'), (1, '2022-11-08'), (1, '2022-10-11'), (1, '2022-07-20'), (1, '2022-07-17'), (1, '2022-07-14'), (1, '2022-07-13'), (1, '2022-07-12'), (1, '2022-05-06'), (1, '2022-05-05'), (16, '2022-11-28'), (16, '2022-07-22'), (16, '2022-04-26'), ('2023-03-16', 0), (0, '2023-03-10'), (0, '2023-03-09'), (0, '2023-02-13'), (0, '2022-12-13'), (0, '2022-12-01'), (0, '2022-11-30'), (0, '2022-11-29'), (0, '2022-10-17'), (0, '2022-10-13'), (0, '2022-10-10'), (0, '2022-10-06'), (0, '2022-09-15'), (0, '2022-07-19'), (0, '2022-07-08'), (0, '2022-06-15'), (0, '2022-05-30'), (0, '2022-05-23'), (0, '2022-04-23'), (0, '2022-04-15'), ('2023-03-15', 17), ('2023-03-10', 27), (27, '2022-12-13'), ('2023-03-09', 10), ('2023-03-09', 11), ('2023-03-09', 15), (10, '2023-02-24'), (10, '2022-12-07'), (10, '2022-09-21'), (10, '2022-09-01'), (10, '2022-04-20'), (11, '2023-01-12'), (11, '2022-12-06'), (11, '2022-12-02'), (11, '2022-10-13'), (11, '2022-07-17'), (11, '2022-05-09'), (15, '2022-08-22'), (15, '2022-07-25'), ('2023-03-07', 6), ('2023-03-07', 12), (6, '2022-11-25'), (6, '2022-11-18'), (6, '2022-11-08'), (6, '2022-10-28'), (6, '2022-09-23'), (6, '2022-08-03'), (6, '2022-07-21'), (6, '2022-07-18'), (6, '2022-06-23'), (12, '2023-02-20'), (12, '2022-05-03'), ('2023-03-04', 19), (19, '2022-07-16'), ('2023-03-02', 23), ('2023-02-23', 22), (22, '2023-01-12'), ('2023-02-20', 8), (8, '2023-02-13'), (8, '2023-02-07'), (8, '2022-10-25'), (8, '2022-10-21'), (8, '2022-10-17'), (8, '2022-10-10'), (8, '2022-07-25'), (8, '2022-07-08'), (8, '2022-04-26'), ('2023-02-16', 3), (3, '2023-01-27'), (3, '2023-01-24'), (3, '2022-12-01'), (3, '2022-11-29'), (3, '2022-11-21'), (3, '2022-11-15'), (3, '2022-11-03'), (3, '2022-08-04'), (3, '2022-07-28'), (3, '2022-07-20'), (3, '2022-07-19'), (3, '2022-07-08'), (3, '2022-06-15'), (3, '2022-05-09'), ('2023-02-11', 13), (13, '2023-02-10'), (13, '2023-01-03'), ('2023-01-19', 29), (29, '2023-01-16'), ('2023-01-11', 306), ('2022-12-20', 14), ('2022-12-20', 18), (14, '2022-06-22'), (18, '2022-05-02'), ('2022-12-13', 32), ('2022-12-13', 20), (20, '2022-08-03'), (20, '2022-07-19'), (20, '2022-05-21'), (20, '2022-05-02'), ('2022-12-07', 87), ('2022-12-07', 48), ('2022-11-30', 35), ('2022-11-17', 44), ('2022-10-28', 34), (34, '2022-09-30'), ('2022-10-17', 37), ('2022-10-13', 50), (50, '2022-07-18'), ('2022-10-04', 24), ('2022-08-10', 64), ('2022-07-19', 28), ('2022-06-15', 61), ('2022-05-02', 25)])"
            ]
          },
          "execution_count": 9,
          "metadata": {},
          "output_type": "execute_result"
        }
      ],
      "source": [
        "#display all the edges\n",
        "fb_graph.edges()"
      ]
    },
    {
      "cell_type": "code",
      "execution_count": 10,
      "metadata": {
        "colab": {
          "base_uri": "https://localhost:8080/"
        },
        "id": "1iRB4TxMR77v",
        "outputId": "c7bca661-de99-432f-9527-b7a7b27fe71b"
      },
      "outputs": [
        {
          "data": {
            "text/plain": [
              "NodeView(('2023-03-30', 7, 9, 5, '2023-03-29', '2023-03-21', 2, '2023-03-20', 4, '2023-03-17', 1, 16, '2023-03-16', 0, '2023-03-15', 17, '2023-03-10', 27, '2023-03-09', 10, 11, 15, '2023-03-07', 6, 12, '2023-03-04', 19, '2023-03-03', '2023-03-02', 23, '2023-02-27', '2023-02-24', '2023-02-23', 22, '2023-02-20', 8, '2023-02-16', 3, '2023-02-13', '2023-02-11', 13, '2023-02-10', '2023-02-07', '2023-02-01', '2023-01-31', '2023-01-30', '2023-01-27', '2023-01-24', '2023-01-23', '2023-01-19', 29, '2023-01-16', '2023-01-12', '2023-01-11', 306, '2023-01-03', '2022-12-20', 14, 18, '2022-12-13', 32, 20, '2022-12-07', 87, 48, '2022-12-06', '2022-12-02', '2022-12-01', '2022-11-30', 35, '2022-11-29', '2022-11-28', '2022-11-25', '2022-11-23', '2022-11-22', '2022-11-21', '2022-11-18', '2022-11-17', 44, '2022-11-15', '2022-11-08', '2022-11-03', '2022-11-02', '2022-10-31', '2022-10-28', 34, '2022-10-25', '2022-10-21', '2022-10-17', 37, '2022-10-13', 50, '2022-10-11', '2022-10-10', '2022-10-06', '2022-10-04', 24, '2022-09-30', '2022-09-23', '2022-09-22', '2022-09-21', '2022-09-15', '2022-09-13', '2022-09-08', '2022-09-07', '2022-09-01', '2022-08-22', '2022-08-15', '2022-08-10', 64, '2022-08-08', '2022-08-04', '2022-08-03', '2022-07-28', '2022-07-25', '2022-07-22', '2022-07-21', '2022-07-20', '2022-07-19', 28, '2022-07-18', '2022-07-17', '2022-07-16', '2022-07-15', '2022-07-14', '2022-07-13', '2022-07-12', '2022-07-08', '2022-06-24', '2022-06-23', '2022-06-22', '2022-06-17', '2022-06-15', 61, '2022-06-08', '2022-06-02', '2022-05-31', '2022-05-30', '2022-05-23', '2022-05-21', '2022-05-20', '2022-05-10', '2022-05-09', '2022-05-06', '2022-05-05', '2022-05-03', '2022-05-02', 25, '2022-04-26', '2022-04-23', '2022-04-20', '2022-04-15', '123', '2154'))"
            ]
          },
          "execution_count": 10,
          "metadata": {},
          "output_type": "execute_result"
        }
      ],
      "source": [
        "#add new node in graph\n",
        "fb_graph.add_edge(\"123\",\"2154\")\n",
        "fb_graph.nodes()\n"
      ]
    },
    {
      "cell_type": "markdown",
      "metadata": {
        "id": "xn482_K_Se5V"
      },
      "source": [
        "visualize the graph"
      ]
    },
    {
      "cell_type": "code",
      "execution_count": 11,
      "metadata": {
        "id": "oE_POWnMSkaF"
      },
      "outputs": [],
      "source": [
        "import matplotlib.pyplot as plt\n",
        "%matplotlib inline"
      ]
    },
    {
      "cell_type": "code",
      "execution_count": 12,
      "metadata": {
        "id": "Ux1K_yL-TWC9"
      },
      "outputs": [],
      "source": [
        "#G = nx.Graph()\n",
        "#G = nx.path_graph(4, create_using=nx.DiGraph)\n",
        "G= nx.Graph(fb_graph)\n",
        "\n",
        "#nx.graph"
      ]
    },
    {
      "cell_type": "code",
      "execution_count": 13,
      "metadata": {
        "id": "lDcEwqc7Tk29"
      },
      "outputs": [],
      "source": [
        "import matplotlib.pyplot as plt"
      ]
    },
    {
      "cell_type": "code",
      "execution_count": 14,
      "metadata": {
        "colab": {
          "base_uri": "https://localhost:8080/"
        },
        "id": "aAj8Jwu3Tr9t",
        "outputId": "cd8b8093-b2f7-4696-e537-1658b58ef6b6"
      },
      "outputs": [
        {
          "name": "stdout",
          "output_type": "stream",
          "text": [
            "Looking in indexes: https://pypi.org/simple, https://us-python.pkg.dev/colab-wheels/public/simple/\n",
            "Requirement already satisfied: scipy in /usr/local/lib/python3.9/dist-packages (1.10.1)\n",
            "Requirement already satisfied: numpy<1.27.0,>=1.19.5 in /usr/local/lib/python3.9/dist-packages (from scipy) (1.22.4)\n"
          ]
        }
      ],
      "source": [
        "!pip install scipy"
      ]
    },
    {
      "cell_type": "code",
      "execution_count": 15,
      "metadata": {
        "colab": {
          "base_uri": "https://localhost:8080/"
        },
        "id": "F2PLXSkZUbQc",
        "outputId": "ab24097f-62d3-4201-c206-7e60d861c514"
      },
      "outputs": [
        {
          "name": "stdout",
          "output_type": "stream",
          "text": [
            "Looking in indexes: https://pypi.org/simple, https://us-python.pkg.dev/colab-wheels/public/simple/\n",
            "Requirement already satisfied: networkx<2.7 in /usr/local/lib/python3.9/dist-packages (2.6.3)\n"
          ]
        }
      ],
      "source": [
        "%pip install 'networkx<2.7'"
      ]
    },
    {
      "cell_type": "code",
      "execution_count": 16,
      "metadata": {
        "colab": {
          "base_uri": "https://localhost:8080/",
          "height": 406
        },
        "id": "y1fI6tWGUzJQ",
        "outputId": "e75a4c2a-a569-42f9-d5a4-2fb87c968c34"
      },
      "outputs": [
        {
          "data": {
            "image/png": "[encoded data removed]",
            "text/plain": [
              "<Figure size 640x480 with 1 Axes>"
            ]
          },
          "metadata": {},
          "output_type": "display_data"
        }
      ],
      "source": [
        "#display the facebook friends network\n",
        "#nx.draw_network(G,with_labels=True)\n",
        "nx.draw_networkx(fb_graph, with_labels=True)"
      ]
    }
  ],
  "metadata": {
    "colab": {
      "provenance": []
    },
    "kernelspec": {
      "display_name": "Python 3",
      "name": "python3"
    },
    "language_info": {
      "name": "python"
    }
  },
  "nbformat": 4,
  "nbformat_minor": 0
}
