{
  "nbformat": 4,
  "nbformat_minor": 0,
  "metadata": {
    "colab": {
      "provenance": []
    },
    "kernelspec": {
      "name": "python3",
      "display_name": "Python 3"
    },
    "language_info": {
      "name": "python"
    }
  },
  "cells": [
    {
      "cell_type": "markdown",
      "source": [
        "# **Experiment No 7**\n"
      ],
      "metadata": {
        "id": "SsqWssSLKG_4"
      }
    },
    {
      "cell_type": "markdown",
      "source": [
        "Aim: Develop a dashboard and reporting tool based on real time social media data.\n",
        "\n",
        "name: Zaki Mehtab Qureshi<br>\n",
        "Roll No. - 19CO40<br>\n",
        "Class - BECO<br>\n",
        "Sem - 8<br>"
      ],
      "metadata": {
        "id": "7VBLTdOcKMV4"
      }
    },
    {
      "cell_type": "markdown",
      "source": [
        "### **1. Scrape Twitter Data for Mamaearth India Tweets**"
      ],
      "metadata": {
        "id": "wD4y-MBexdTF"
      }
    },
    {
      "cell_type": "code",
      "execution_count": 7,
      "metadata": {
        "id": "CPh8xnj3obPM",
        "colab": {
          "base_uri": "https://localhost:8080/"
        },
        "outputId": "fb1f5c0a-4ce6-4613-918a-9d0f4258c2e2"
      },
      "outputs": [
        {
          "output_type": "stream",
          "name": "stdout",
          "text": [
            "Looking in indexes: https://pypi.org/simple, https://us-python.pkg.dev/colab-wheels/public/simple/\n",
            "Requirement already satisfied: snscrape in /usr/local/lib/python3.9/dist-packages (0.6.2.20230320)\n",
            "Requirement already satisfied: requests[socks] in /usr/local/lib/python3.9/dist-packages (from snscrape) (2.27.1)\n",
            "Requirement already satisfied: lxml in /usr/local/lib/python3.9/dist-packages (from snscrape) (4.9.2)\n",
            "Requirement already satisfied: beautifulsoup4 in /usr/local/lib/python3.9/dist-packages (from snscrape) (4.11.2)\n",
            "Requirement already satisfied: filelock in /usr/local/lib/python3.9/dist-packages (from snscrape) (3.11.0)\n",
            "Requirement already satisfied: soupsieve>1.2 in /usr/local/lib/python3.9/dist-packages (from beautifulsoup4->snscrape) (2.4)\n",
            "Requirement already satisfied: urllib3<1.27,>=1.21.1 in /usr/local/lib/python3.9/dist-packages (from requests[socks]->snscrape) (1.26.15)\n",
            "Requirement already satisfied: idna<4,>=2.5 in /usr/local/lib/python3.9/dist-packages (from requests[socks]->snscrape) (3.4)\n",
            "Requirement already satisfied: charset-normalizer~=2.0.0 in /usr/local/lib/python3.9/dist-packages (from requests[socks]->snscrape) (2.0.12)\n",
            "Requirement already satisfied: certifi>=2017.4.17 in /usr/local/lib/python3.9/dist-packages (from requests[socks]->snscrape) (2022.12.7)\n",
            "Requirement already satisfied: PySocks!=1.5.7,>=1.5.6 in /usr/local/lib/python3.9/dist-packages (from requests[socks]->snscrape) (1.7.1)\n"
          ]
        }
      ],
      "source": [
        "!pip install snscrape"
      ]
    },
    {
      "cell_type": "code",
      "source": [
        "import snscrape.modules.twitter as sntwitter\n",
        "import pandas as pd"
      ],
      "metadata": {
        "id": "tuL5i1hbpbXK"
      },
      "execution_count": 8,
      "outputs": []
    },
    {
      "cell_type": "code",
      "source": [
        "import os\n",
        "os.system(\"snscrape --jsonl --max-results 500 --since 2023-04-01 twitter-search 'Airbus' > text-tweets.json\")"
      ],
      "metadata": {
        "id": "5HIKfjcgqv7l",
        "colab": {
          "base_uri": "https://localhost:8080/"
        },
        "outputId": "32b3eadf-bf1f-4041-cf0f-4115b2692287"
      },
      "execution_count": 9,
      "outputs": [
        {
          "output_type": "execute_result",
          "data": {
            "text/plain": [
              "0"
            ]
          },
          "metadata": {},
          "execution_count": 9
        }
      ]
    },
    {
      "cell_type": "code",
      "source": [
        "tweets_df_allmamaearthindia = pd.read_json('text-tweets.json', lines=True)"
      ],
      "metadata": {
        "id": "ujh7kB7xrUcG"
      },
      "execution_count": 10,
      "outputs": []
    },
    {
      "cell_type": "code",
      "source": [
        "tweets_df_allmamaearthindia.head()"
      ],
      "metadata": {
        "id": "fOp20whdsBIu",
        "colab": {
          "base_uri": "https://localhost:8080/",
          "height": 629
        },
        "outputId": "4779175b-e789-4b41-99de-a2e0df1fe214"
      },
      "execution_count": 11,
      "outputs": [
        {
          "output_type": "execute_result",
          "data": {
            "text/plain": [
              "                            _type  \\\n",
              "0  snscrape.modules.twitter.Tweet   \n",
              "1  snscrape.modules.twitter.Tweet   \n",
              "2  snscrape.modules.twitter.Tweet   \n",
              "3  snscrape.modules.twitter.Tweet   \n",
              "4  snscrape.modules.twitter.Tweet   \n",
              "\n",
              "                                                 url  \\\n",
              "0  https://twitter.com/abovestockport/status/1646...   \n",
              "1  https://twitter.com/skyoverhavant/status/16460...   \n",
              "2  https://twitter.com/rubenhofs/status/164609455...   \n",
              "3  https://twitter.com/abovestockport/status/1646...   \n",
              "4  https://twitter.com/centralspotter/status/1646...   \n",
              "\n",
              "                       date  \\\n",
              "0 2023-04-12 10:15:33+00:00   \n",
              "1 2023-04-12 10:15:31+00:00   \n",
              "2 2023-04-12 10:15:00+00:00   \n",
              "3 2023-04-12 10:14:12+00:00   \n",
              "4 2023-04-12 10:13:59+00:00   \n",
              "\n",
              "                                          rawContent  \\\n",
              "0  EZY89DV   easyJet   G-EZDR   Airbus A319 111 \\...   \n",
              "1  ➠Air Transat Airbus A321-271NX\\n4mls SE of Hav...   \n",
              "2  F-GSTD Airbus A300B4-608ST #NLspot https://t.c...   \n",
              "3  AFR67DZ   Air France   F-GRHF   Airbus A319 11...   \n",
              "4  👀✈️🔊\\nEI-DVM \\n#Unknown \\n#Aer Lingus \\n#Irela...   \n",
              "\n",
              "                                     renderedContent                   id  \\\n",
              "0  EZY89DV   easyJet   G-EZDR   Airbus A319 111 \\...  1646094696102391808   \n",
              "1  ➠Air Transat Airbus A321-271NX\\n4mls SE of Hav...  1646094689790042112   \n",
              "2  F-GSTD Airbus A300B4-608ST #NLspot https://t.c...  1646094557933608962   \n",
              "3  AFR67DZ   Air France   F-GRHF   Airbus A319 11...  1646094357445976066   \n",
              "4  👀✈️🔊\\nEI-DVM \\n#Unknown \\n#Aer Lingus \\n#Irela...  1646094303956025345   \n",
              "\n",
              "                                                user  replyCount  \\\n",
              "0  {'_type': 'snscrape.modules.twitter.User', 'us...           0   \n",
              "1  {'_type': 'snscrape.modules.twitter.User', 'us...           0   \n",
              "2  {'_type': 'snscrape.modules.twitter.User', 'us...           0   \n",
              "3  {'_type': 'snscrape.modules.twitter.User', 'us...           0   \n",
              "4  {'_type': 'snscrape.modules.twitter.User', 'us...           0   \n",
              "\n",
              "   retweetCount  likeCount  ...  cashtags  card viewCount vibe  \\\n",
              "0             0          0  ...      None  None       NaN  NaN   \n",
              "1             0          0  ...      None  None       NaN  NaN   \n",
              "2             0          0  ...      None  None       NaN  NaN   \n",
              "3             0          0  ...      None  None       NaN  NaN   \n",
              "4             0          0  ...      None  None       NaN  NaN   \n",
              "\n",
              "                                             content  \\\n",
              "0  EZY89DV   easyJet   G-EZDR   Airbus A319 111 \\...   \n",
              "1  ➠Air Transat Airbus A321-271NX\\n4mls SE of Hav...   \n",
              "2  F-GSTD Airbus A300B4-608ST #NLspot https://t.c...   \n",
              "3  AFR67DZ   Air France   F-GRHF   Airbus A319 11...   \n",
              "4  👀✈️🔊\\nEI-DVM \\n#Unknown \\n#Aer Lingus \\n#Irela...   \n",
              "\n",
              "                                        outlinks  \\\n",
              "0                                             []   \n",
              "1                                             []   \n",
              "2                                             []   \n",
              "3                                             []   \n",
              "4  [https://globe.adsbexchange.com/?icao=4CA92D]   \n",
              "\n",
              "                                    outlinksss                tcooutlinks  \\\n",
              "0                                                                      []   \n",
              "1                                                                      []   \n",
              "2                                                                      []   \n",
              "3                                                                      []   \n",
              "4  https://globe.adsbexchange.com/?icao=4CA92D  [https://t.co/LTQRUEOcp1]   \n",
              "\n",
              "             tcooutlinksss        username  \n",
              "0                           abovestockport  \n",
              "1                            skyoverhavant  \n",
              "2                                rubenhofs  \n",
              "3                           abovestockport  \n",
              "4  https://t.co/LTQRUEOcp1  centralspotter  \n",
              "\n",
              "[5 rows x 36 columns]"
            ],
            "text/html": [
              "\n",
              "  <div id=\"df-9d8afa92-e458-4d2f-8ec6-2fe5b32ce1ad\">\n",
              "    <div class=\"colab-df-container\">\n",
              "      <div>\n",
              "<style scoped>\n",
              "    .dataframe tbody tr th:only-of-type {\n",
              "        vertical-align: middle;\n",
              "    }\n",
              "\n",
              "    .dataframe tbody tr th {\n",
              "        vertical-align: top;\n",
              "    }\n",
              "\n",
              "    .dataframe thead th {\n",
              "        text-align: right;\n",
              "    }\n",
              "</style>\n",
              "<table border=\"1\" class=\"dataframe\">\n",
              "  <thead>\n",
              "    <tr style=\"text-align: right;\">\n",
              "      <th></th>\n",
              "      <th>_type</th>\n",
              "      <th>url</th>\n",
              "      <th>date</th>\n",
              "      <th>rawContent</th>\n",
              "      <th>renderedContent</th>\n",
              "      <th>id</th>\n",
              "      <th>user</th>\n",
              "      <th>replyCount</th>\n",
              "      <th>retweetCount</th>\n",
              "      <th>likeCount</th>\n",
              "      <th>...</th>\n",
              "      <th>cashtags</th>\n",
              "      <th>card</th>\n",
              "      <th>viewCount</th>\n",
              "      <th>vibe</th>\n",
              "      <th>content</th>\n",
              "      <th>outlinks</th>\n",
              "      <th>outlinksss</th>\n",
              "      <th>tcooutlinks</th>\n",
              "      <th>tcooutlinksss</th>\n",
              "      <th>username</th>\n",
              "    </tr>\n",
              "  </thead>\n",
              "  <tbody>\n",
              "    <tr>\n",
              "      <th>0</th>\n",
              "      <td>snscrape.modules.twitter.Tweet</td>\n",
              "      <td>https://twitter.com/abovestockport/status/1646...</td>\n",
              "      <td>2023-04-12 10:15:33+00:00</td>\n",
              "      <td>EZY89DV   easyJet   G-EZDR   Airbus A319 111 \\...</td>\n",
              "      <td>EZY89DV   easyJet   G-EZDR   Airbus A319 111 \\...</td>\n",
              "      <td>1646094696102391808</td>\n",
              "      <td>{'_type': 'snscrape.modules.twitter.User', 'us...</td>\n",
              "      <td>0</td>\n",
              "      <td>0</td>\n",
              "      <td>0</td>\n",
              "      <td>...</td>\n",
              "      <td>None</td>\n",
              "      <td>None</td>\n",
              "      <td>NaN</td>\n",
              "      <td>NaN</td>\n",
              "      <td>EZY89DV   easyJet   G-EZDR   Airbus A319 111 \\...</td>\n",
              "      <td>[]</td>\n",
              "      <td></td>\n",
              "      <td>[]</td>\n",
              "      <td></td>\n",
              "      <td>abovestockport</td>\n",
              "    </tr>\n",
              "    <tr>\n",
              "      <th>1</th>\n",
              "      <td>snscrape.modules.twitter.Tweet</td>\n",
              "      <td>https://twitter.com/skyoverhavant/status/16460...</td>\n",
              "      <td>2023-04-12 10:15:31+00:00</td>\n",
              "      <td>➠Air Transat Airbus A321-271NX\\n4mls SE of Hav...</td>\n",
              "      <td>➠Air Transat Airbus A321-271NX\\n4mls SE of Hav...</td>\n",
              "      <td>1646094689790042112</td>\n",
              "      <td>{'_type': 'snscrape.modules.twitter.User', 'us...</td>\n",
              "      <td>0</td>\n",
              "      <td>0</td>\n",
              "      <td>0</td>\n",
              "      <td>...</td>\n",
              "      <td>None</td>\n",
              "      <td>None</td>\n",
              "      <td>NaN</td>\n",
              "      <td>NaN</td>\n",
              "      <td>➠Air Transat Airbus A321-271NX\\n4mls SE of Hav...</td>\n",
              "      <td>[]</td>\n",
              "      <td></td>\n",
              "      <td>[]</td>\n",
              "      <td></td>\n",
              "      <td>skyoverhavant</td>\n",
              "    </tr>\n",
              "    <tr>\n",
              "      <th>2</th>\n",
              "      <td>snscrape.modules.twitter.Tweet</td>\n",
              "      <td>https://twitter.com/rubenhofs/status/164609455...</td>\n",
              "      <td>2023-04-12 10:15:00+00:00</td>\n",
              "      <td>F-GSTD Airbus A300B4-608ST #NLspot https://t.c...</td>\n",
              "      <td>F-GSTD Airbus A300B4-608ST #NLspot https://t.c...</td>\n",
              "      <td>1646094557933608962</td>\n",
              "      <td>{'_type': 'snscrape.modules.twitter.User', 'us...</td>\n",
              "      <td>0</td>\n",
              "      <td>0</td>\n",
              "      <td>0</td>\n",
              "      <td>...</td>\n",
              "      <td>None</td>\n",
              "      <td>None</td>\n",
              "      <td>NaN</td>\n",
              "      <td>NaN</td>\n",
              "      <td>F-GSTD Airbus A300B4-608ST #NLspot https://t.c...</td>\n",
              "      <td>[]</td>\n",
              "      <td></td>\n",
              "      <td>[]</td>\n",
              "      <td></td>\n",
              "      <td>rubenhofs</td>\n",
              "    </tr>\n",
              "    <tr>\n",
              "      <th>3</th>\n",
              "      <td>snscrape.modules.twitter.Tweet</td>\n",
              "      <td>https://twitter.com/abovestockport/status/1646...</td>\n",
              "      <td>2023-04-12 10:14:12+00:00</td>\n",
              "      <td>AFR67DZ   Air France   F-GRHF   Airbus A319 11...</td>\n",
              "      <td>AFR67DZ   Air France   F-GRHF   Airbus A319 11...</td>\n",
              "      <td>1646094357445976066</td>\n",
              "      <td>{'_type': 'snscrape.modules.twitter.User', 'us...</td>\n",
              "      <td>0</td>\n",
              "      <td>0</td>\n",
              "      <td>0</td>\n",
              "      <td>...</td>\n",
              "      <td>None</td>\n",
              "      <td>None</td>\n",
              "      <td>NaN</td>\n",
              "      <td>NaN</td>\n",
              "      <td>AFR67DZ   Air France   F-GRHF   Airbus A319 11...</td>\n",
              "      <td>[]</td>\n",
              "      <td></td>\n",
              "      <td>[]</td>\n",
              "      <td></td>\n",
              "      <td>abovestockport</td>\n",
              "    </tr>\n",
              "    <tr>\n",
              "      <th>4</th>\n",
              "      <td>snscrape.modules.twitter.Tweet</td>\n",
              "      <td>https://twitter.com/centralspotter/status/1646...</td>\n",
              "      <td>2023-04-12 10:13:59+00:00</td>\n",
              "      <td>👀✈️🔊\\nEI-DVM \\n#Unknown \\n#Aer Lingus \\n#Irela...</td>\n",
              "      <td>👀✈️🔊\\nEI-DVM \\n#Unknown \\n#Aer Lingus \\n#Irela...</td>\n",
              "      <td>1646094303956025345</td>\n",
              "      <td>{'_type': 'snscrape.modules.twitter.User', 'us...</td>\n",
              "      <td>0</td>\n",
              "      <td>0</td>\n",
              "      <td>0</td>\n",
              "      <td>...</td>\n",
              "      <td>None</td>\n",
              "      <td>None</td>\n",
              "      <td>NaN</td>\n",
              "      <td>NaN</td>\n",
              "      <td>👀✈️🔊\\nEI-DVM \\n#Unknown \\n#Aer Lingus \\n#Irela...</td>\n",
              "      <td>[https://globe.adsbexchange.com/?icao=4CA92D]</td>\n",
              "      <td>https://globe.adsbexchange.com/?icao=4CA92D</td>\n",
              "      <td>[https://t.co/LTQRUEOcp1]</td>\n",
              "      <td>https://t.co/LTQRUEOcp1</td>\n",
              "      <td>centralspotter</td>\n",
              "    </tr>\n",
              "  </tbody>\n",
              "</table>\n",
              "<p>5 rows × 36 columns</p>\n",
              "</div>\n",
              "      <button class=\"colab-df-convert\" onclick=\"convertToInteractive('df-9d8afa92-e458-4d2f-8ec6-2fe5b32ce1ad')\"\n",
              "              title=\"Convert this dataframe to an interactive table.\"\n",
              "              style=\"display:none;\">\n",
              "        \n",
              "  <svg xmlns=\"http://www.w3.org/2000/svg\" height=\"24px\"viewBox=\"0 0 24 24\"\n",
              "       width=\"24px\">\n",
              "    <path d=\"M0 0h24v24H0V0z\" fill=\"none\"/>\n",
              "    <path d=\"M18.56 5.44l.94 2.06.94-2.06 2.06-.94-2.06-.94-.94-2.06-.94 2.06-2.06.94zm-11 1L8.5 8.5l.94-2.06 2.06-.94-2.06-.94L8.5 2.5l-.94 2.06-2.06.94zm10 10l.94 2.06.94-2.06 2.06-.94-2.06-.94-.94-2.06-.94 2.06-2.06.94z\"/><path d=\"M17.41 7.96l-1.37-1.37c-.4-.4-.92-.59-1.43-.59-.52 0-1.04.2-1.43.59L10.3 9.45l-7.72 7.72c-.78.78-.78 2.05 0 2.83L4 21.41c.39.39.9.59 1.41.59.51 0 1.02-.2 1.41-.59l7.78-7.78 2.81-2.81c.8-.78.8-2.07 0-2.86zM5.41 20L4 18.59l7.72-7.72 1.47 1.35L5.41 20z\"/>\n",
              "  </svg>\n",
              "      </button>\n",
              "      \n",
              "  <style>\n",
              "    .colab-df-container {\n",
              "      display:flex;\n",
              "      flex-wrap:wrap;\n",
              "      gap: 12px;\n",
              "    }\n",
              "\n",
              "    .colab-df-convert {\n",
              "      background-color: #E8F0FE;\n",
              "      border: none;\n",
              "      border-radius: 50%;\n",
              "      cursor: pointer;\n",
              "      display: none;\n",
              "      fill: #1967D2;\n",
              "      height: 32px;\n",
              "      padding: 0 0 0 0;\n",
              "      width: 32px;\n",
              "    }\n",
              "\n",
              "    .colab-df-convert:hover {\n",
              "      background-color: #E2EBFA;\n",
              "      box-shadow: 0px 1px 2px rgba(60, 64, 67, 0.3), 0px 1px 3px 1px rgba(60, 64, 67, 0.15);\n",
              "      fill: #174EA6;\n",
              "    }\n",
              "\n",
              "    [theme=dark] .colab-df-convert {\n",
              "      background-color: #3B4455;\n",
              "      fill: #D2E3FC;\n",
              "    }\n",
              "\n",
              "    [theme=dark] .colab-df-convert:hover {\n",
              "      background-color: #434B5C;\n",
              "      box-shadow: 0px 1px 3px 1px rgba(0, 0, 0, 0.15);\n",
              "      filter: drop-shadow(0px 1px 2px rgba(0, 0, 0, 0.3));\n",
              "      fill: #FFFFFF;\n",
              "    }\n",
              "  </style>\n",
              "\n",
              "      <script>\n",
              "        const buttonEl =\n",
              "          document.querySelector('#df-9d8afa92-e458-4d2f-8ec6-2fe5b32ce1ad button.colab-df-convert');\n",
              "        buttonEl.style.display =\n",
              "          google.colab.kernel.accessAllowed ? 'block' : 'none';\n",
              "\n",
              "        async function convertToInteractive(key) {\n",
              "          const element = document.querySelector('#df-9d8afa92-e458-4d2f-8ec6-2fe5b32ce1ad');\n",
              "          const dataTable =\n",
              "            await google.colab.kernel.invokeFunction('convertToInteractive',\n",
              "                                                     [key], {});\n",
              "          if (!dataTable) return;\n",
              "\n",
              "          const docLinkHtml = 'Like what you see? Visit the ' +\n",
              "            '<a target=\"_blank\" href=https://colab.research.google.com/notebooks/data_table.ipynb>data table notebook</a>'\n",
              "            + ' to learn more about interactive tables.';\n",
              "          element.innerHTML = '';\n",
              "          dataTable['output_type'] = 'display_data';\n",
              "          await google.colab.output.renderOutput(dataTable, element);\n",
              "          const docLink = document.createElement('div');\n",
              "          docLink.innerHTML = docLinkHtml;\n",
              "          element.appendChild(docLink);\n",
              "        }\n",
              "      </script>\n",
              "    </div>\n",
              "  </div>\n",
              "  "
            ]
          },
          "metadata": {},
          "execution_count": 11
        }
      ]
    },
    {
      "cell_type": "code",
      "source": [
        "print(tweets_df_allmamaearthindia.shape)"
      ],
      "metadata": {
        "id": "bGFayx1asZsA",
        "colab": {
          "base_uri": "https://localhost:8080/"
        },
        "outputId": "cfbc740e-2333-484a-81b7-3a1c451ad6ac"
      },
      "execution_count": 12,
      "outputs": [
        {
          "output_type": "stream",
          "name": "stdout",
          "text": [
            "(500, 36)\n"
          ]
        }
      ]
    }
  ]
}