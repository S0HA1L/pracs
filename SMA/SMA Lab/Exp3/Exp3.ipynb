{
  "nbformat": 4,
  "nbformat_minor": 0,
  "metadata": {
    "colab": {
      "provenance": []
    },
    "kernelspec": {
      "name": "python3",
      "display_name": "Python 3"
    },
    "language_info": {
      "name": "python"
    }
  },
  "cells": [
    {
      "cell_type": "code",
      "source": [
        "pip install twitter_scraper_selenium "
      ],
      "metadata": {
        "colab": {
          "base_uri": "https://localhost:8080/",
          "height": 1000
        },
        "id": "C5zXBAikjBlr",
        "outputId": "301a2412-ada9-4b37-f6ae-ba2da4fcf749"
      },
      "execution_count": null,
      "outputs": [
        {
          "output_type": "stream",
          "name": "stdout",
          "text": [
            "Looking in indexes: https://pypi.org/simple, https://us-python.pkg.dev/colab-wheels/public/simple/\n",
            "Collecting twitter_scraper_selenium\n",
            "  Downloading twitter_scraper_selenium-4.1.4-py3-none-any.whl (33 kB)\n",
            "Collecting fake-headers==1.0.2\n",
            "  Downloading fake_headers-1.0.2-py3-none-any.whl (17 kB)\n",
            "Collecting webdriver-manager==3.2.2\n",
            "  Downloading webdriver_manager-3.2.2-py2.py3-none-any.whl (16 kB)\n",
            "Collecting requests==2.27.1\n",
            "  Downloading requests-2.27.1-py2.py3-none-any.whl (63 kB)\n",
            "\u001b[2K     \u001b[90m━━━━━━━━━━━━━━━━━━━━━━━━━━━━━━━━━━━━━━━━\u001b[0m \u001b[32m63.1/63.1 KB\u001b[0m \u001b[31m4.4 MB/s\u001b[0m eta \u001b[36m0:00:00\u001b[0m\n",
            "\u001b[?25hRequirement already satisfied: python-dateutil==2.8.2 in /usr/local/lib/python3.9/dist-packages (from twitter_scraper_selenium) (2.8.2)\n",
            "Collecting selenium-wire==5.1.0\n",
            "  Downloading selenium_wire-5.1.0-py3-none-any.whl (239 kB)\n",
            "\u001b[2K     \u001b[90m━━━━━━━━━━━━━━━━━━━━━━━━━━━━━━━━━━━━━━\u001b[0m \u001b[32m239.6/239.6 KB\u001b[0m \u001b[31m17.0 MB/s\u001b[0m eta \u001b[36m0:00:00\u001b[0m\n",
            "\u001b[?25hCollecting selenium==4.7.0\n",
            "  Downloading selenium-4.7.0-py3-none-any.whl (6.3 MB)\n",
            "\u001b[2K     \u001b[90m━━━━━━━━━━━━━━━━━━━━━━━━━━━━━━━━━━━━━━━━\u001b[0m \u001b[32m6.3/6.3 MB\u001b[0m \u001b[31m55.8 MB/s\u001b[0m eta \u001b[36m0:00:00\u001b[0m\n",
            "\u001b[?25hRequirement already satisfied: bs4 in /usr/local/lib/python3.9/dist-packages (from fake-headers==1.0.2->twitter_scraper_selenium) (0.0.1)\n",
            "Requirement already satisfied: html5lib in /usr/local/lib/python3.9/dist-packages (from fake-headers==1.0.2->twitter_scraper_selenium) (1.0.1)\n",
            "Requirement already satisfied: six>=1.5 in /usr/local/lib/python3.9/dist-packages (from python-dateutil==2.8.2->twitter_scraper_selenium) (1.15.0)\n",
            "Requirement already satisfied: certifi>=2017.4.17 in /usr/local/lib/python3.9/dist-packages (from requests==2.27.1->twitter_scraper_selenium) (2022.12.7)\n",
            "Requirement already satisfied: urllib3<1.27,>=1.21.1 in /usr/local/lib/python3.9/dist-packages (from requests==2.27.1->twitter_scraper_selenium) (1.26.14)\n",
            "Requirement already satisfied: idna<4,>=2.5 in /usr/local/lib/python3.9/dist-packages (from requests==2.27.1->twitter_scraper_selenium) (2.10)\n",
            "Collecting charset-normalizer~=2.0.0\n",
            "  Downloading charset_normalizer-2.0.12-py3-none-any.whl (39 kB)\n",
            "Collecting trio~=0.17\n",
            "  Downloading trio-0.22.0-py3-none-any.whl (384 kB)\n",
            "\u001b[2K     \u001b[90m━━━━━━━━━━━━━━━━━━━━━━━━━━━━━━━━━━━━━━\u001b[0m \u001b[32m384.9/384.9 KB\u001b[0m \u001b[31m27.4 MB/s\u001b[0m eta \u001b[36m0:00:00\u001b[0m\n",
            "\u001b[?25hCollecting trio-websocket~=0.9\n",
            "  Downloading trio_websocket-0.9.2-py3-none-any.whl (16 kB)\n",
            "Collecting hyperframe>=6.0\n",
            "  Downloading hyperframe-6.0.1-py3-none-any.whl (12 kB)\n",
            "Requirement already satisfied: pyasn1>=0.3.1 in /usr/local/lib/python3.9/dist-packages (from selenium-wire==5.1.0->twitter_scraper_selenium) (0.4.8)\n",
            "Collecting kaitaistruct>=0.7\n",
            "  Downloading kaitaistruct-0.10-py2.py3-none-any.whl (7.0 kB)\n",
            "Collecting zstandard>=0.14.1\n",
            "  Downloading zstandard-0.20.0-cp39-cp39-manylinux_2_17_x86_64.manylinux2014_x86_64.whl (2.6 MB)\n",
            "\u001b[2K     \u001b[90m━━━━━━━━━━━━━━━━━━━━━━━━━━━━━━━━━━━━━━━━\u001b[0m \u001b[32m2.6/2.6 MB\u001b[0m \u001b[31m53.3 MB/s\u001b[0m eta \u001b[36m0:00:00\u001b[0m\n",
            "\u001b[?25hCollecting wsproto>=0.14\n",
            "  Downloading wsproto-1.2.0-py3-none-any.whl (24 kB)\n",
            "Requirement already satisfied: pyparsing>=2.4.2 in /usr/local/lib/python3.9/dist-packages (from selenium-wire==5.1.0->twitter_scraper_selenium) (3.0.9)\n",
            "Collecting h2>=4.0\n",
            "  Downloading h2-4.1.0-py3-none-any.whl (57 kB)\n",
            "\u001b[2K     \u001b[90m━━━━━━━━━━━━━━━━━━━━━━━━━━━━━━━━━━━━━━━━\u001b[0m \u001b[32m57.5/57.5 KB\u001b[0m \u001b[31m3.8 MB/s\u001b[0m eta \u001b[36m0:00:00\u001b[0m\n",
            "\u001b[?25hRequirement already satisfied: pysocks>=1.7.1 in /usr/local/lib/python3.9/dist-packages (from selenium-wire==5.1.0->twitter_scraper_selenium) (1.7.1)\n",
            "Collecting pyOpenSSL>=22.0.0\n",
            "  Downloading pyOpenSSL-23.0.0-py3-none-any.whl (57 kB)\n",
            "\u001b[2K     \u001b[90m━━━━━━━━━━━━━━━━━━━━━━━━━━━━━━━━━━━━━━━━\u001b[0m \u001b[32m57.3/57.3 KB\u001b[0m \u001b[31m5.0 MB/s\u001b[0m eta \u001b[36m0:00:00\u001b[0m\n",
            "\u001b[?25hCollecting brotli>=1.0.9\n",
            "  Downloading Brotli-1.0.9-cp39-cp39-manylinux1_x86_64.whl (357 kB)\n",
            "\u001b[2K     \u001b[90m━━━━━━━━━━━━━━━━━━━━━━━━━━━━━━━━━━━━━━\u001b[0m \u001b[32m357.2/357.2 KB\u001b[0m \u001b[31m16.8 MB/s\u001b[0m eta \u001b[36m0:00:00\u001b[0m\n",
            "\u001b[?25hCollecting blinker>=1.4\n",
            "  Downloading blinker-1.5-py2.py3-none-any.whl (12 kB)\n",
            "Collecting configparser\n",
            "  Downloading configparser-5.3.0-py3-none-any.whl (19 kB)\n",
            "Collecting crayons\n",
            "  Downloading crayons-0.4.0-py2.py3-none-any.whl (4.6 kB)\n",
            "Collecting hpack<5,>=4.0\n",
            "  Downloading hpack-4.0.0-py3-none-any.whl (32 kB)\n",
            "Collecting cryptography<40,>=38.0.0\n",
            "  Downloading cryptography-39.0.2-cp36-abi3-manylinux_2_28_x86_64.whl (4.2 MB)\n",
            "\u001b[2K     \u001b[90m━━━━━━━━━━━━━━━━━━━━━━━━━━━━━━━━━━━━━━━━\u001b[0m \u001b[32m4.2/4.2 MB\u001b[0m \u001b[31m73.4 MB/s\u001b[0m eta \u001b[36m0:00:00\u001b[0m\n",
            "\u001b[?25hCollecting sniffio\n",
            "  Downloading sniffio-1.3.0-py3-none-any.whl (10 kB)\n",
            "Collecting exceptiongroup>=1.0.0rc9\n",
            "  Downloading exceptiongroup-1.1.0-py3-none-any.whl (14 kB)\n",
            "Requirement already satisfied: attrs>=19.2.0 in /usr/local/lib/python3.9/dist-packages (from trio~=0.17->selenium==4.7.0->twitter_scraper_selenium) (22.2.0)\n",
            "Requirement already satisfied: sortedcontainers in /usr/local/lib/python3.9/dist-packages (from trio~=0.17->selenium==4.7.0->twitter_scraper_selenium) (2.4.0)\n",
            "Collecting async-generator>=1.9\n",
            "  Downloading async_generator-1.10-py3-none-any.whl (18 kB)\n",
            "Collecting outcome\n",
            "  Downloading outcome-1.2.0-py2.py3-none-any.whl (9.7 kB)\n",
            "Collecting h11<1,>=0.9.0\n",
            "  Downloading h11-0.14.0-py3-none-any.whl (58 kB)\n",
            "\u001b[2K     \u001b[90m━━━━━━━━━━━━━━━━━━━━━━━━━━━━━━━━━━━━━━━━\u001b[0m \u001b[32m58.3/58.3 KB\u001b[0m \u001b[31m8.6 MB/s\u001b[0m eta \u001b[36m0:00:00\u001b[0m\n",
            "\u001b[?25hRequirement already satisfied: beautifulsoup4 in /usr/local/lib/python3.9/dist-packages (from bs4->fake-headers==1.0.2->twitter_scraper_selenium) (4.6.3)\n",
            "Collecting colorama\n",
            "  Downloading colorama-0.4.6-py2.py3-none-any.whl (25 kB)\n",
            "Requirement already satisfied: webencodings in /usr/local/lib/python3.9/dist-packages (from html5lib->fake-headers==1.0.2->twitter_scraper_selenium) (0.5.1)\n",
            "Requirement already satisfied: cffi>=1.12 in /usr/local/lib/python3.9/dist-packages (from cryptography<40,>=38.0.0->pyOpenSSL>=22.0.0->selenium-wire==5.1.0->twitter_scraper_selenium) (1.15.1)\n",
            "Requirement already satisfied: pycparser in /usr/local/lib/python3.9/dist-packages (from cffi>=1.12->cryptography<40,>=38.0.0->pyOpenSSL>=22.0.0->selenium-wire==5.1.0->twitter_scraper_selenium) (2.21)\n",
            "Installing collected packages: brotli, zstandard, sniffio, outcome, kaitaistruct, hyperframe, hpack, h11, exceptiongroup, configparser, colorama, charset-normalizer, blinker, async-generator, wsproto, trio, requests, h2, fake-headers, cryptography, crayons, webdriver-manager, trio-websocket, pyOpenSSL, selenium, selenium-wire, twitter_scraper_selenium\n",
            "  Attempting uninstall: requests\n",
            "    Found existing installation: requests 2.25.1\n",
            "    Uninstalling requests-2.25.1:\n",
            "      Successfully uninstalled requests-2.25.1\n",
            "Successfully installed async-generator-1.10 blinker-1.5 brotli-1.0.9 charset-normalizer-2.0.12 colorama-0.4.6 configparser-5.3.0 crayons-0.4.0 cryptography-39.0.2 exceptiongroup-1.1.0 fake-headers-1.0.2 h11-0.14.0 h2-4.1.0 hpack-4.0.0 hyperframe-6.0.1 kaitaistruct-0.10 outcome-1.2.0 pyOpenSSL-23.0.0 requests-2.27.1 selenium-4.7.0 selenium-wire-5.1.0 sniffio-1.3.0 trio-0.22.0 trio-websocket-0.9.2 twitter_scraper_selenium-4.1.4 webdriver-manager-3.2.2 wsproto-1.2.0 zstandard-0.20.0\n"
          ]
        },
        {
          "output_type": "display_data",
          "data": {
            "application/vnd.colab-display-data+json": {
              "pip_warning": {
                "packages": [
                  "configparser"
                ]
              }
            }
          },
          "metadata": {}
        }
      ]
    },
    {
      "cell_type": "code",
      "source": [
        "import pandas as pd \n",
        "from twitter_scraper_selenium import get_profile_details\n",
        "twitter_username = \"FederalBankLtd\"\n",
        "filename = \"twitter_api_data\"\n",
        "get_profile_details(twitter_username=twitter_username, filename=filename)\n",
        "import json\n",
        "with open('twitter_api_data.json', 'r') as json_file:\n",
        "    json_object = json.load(json_file)\n",
        "# print(json.dumps(json_object, indent=1))\n",
        "a=json.dumps(json_object, indent=1)\n",
        "print(a)\n",
        "\n"
      ],
      "metadata": {
        "colab": {
          "base_uri": "https://localhost:8080/"
        },
        "id": "Buk1UJQX8pdw",
        "outputId": "453023bd-b17a-4658-a63b-b97698fb4c39"
      },
      "execution_count": null,
      "outputs": [
        {
          "output_type": "stream",
          "name": "stderr",
          "text": [
            "2023-03-12 09:40:06,707 - twitter_scraper_selenium.profile_details - INFO - Data Successfully Saved to /content/twitter_api_data.json\n",
            "INFO:twitter_scraper_selenium.profile_details:Data Successfully Saved to /content/twitter_api_data.json\n"
          ]
        },
        {
          "output_type": "stream",
          "name": "stdout",
          "text": [
            "{\n",
            " \"id\": 391171875,\n",
            " \"id_str\": \"391171875\",\n",
            " \"name\": \"Federal Bank Ltd\",\n",
            " \"screen_name\": \"FederalBankLtd\",\n",
            " \"location\": \"India\",\n",
            " \"profile_location\": null,\n",
            " \"description\": \"A leading Indian Private Sector Bank, offering a wide range of products & services. For queries, tag @FederalBankHelp \\n\\nDo not share any confidential info here\",\n",
            " \"url\": \"https://t.co/8cvBBZ9dhz\",\n",
            " \"entities\": {\n",
            "  \"url\": {\n",
            "   \"urls\": [\n",
            "    {\n",
            "     \"url\": \"https://t.co/8cvBBZ9dhz\",\n",
            "     \"expanded_url\": \"http://www.federalbank.co.in\",\n",
            "     \"display_url\": \"federalbank.co.in\",\n",
            "     \"indices\": [\n",
            "      0,\n",
            "      23\n",
            "     ]\n",
            "    }\n",
            "   ]\n",
            "  },\n",
            "  \"description\": {\n",
            "   \"urls\": []\n",
            "  }\n",
            " },\n",
            " \"protected\": false,\n",
            " \"followers_count\": 69969,\n",
            " \"fast_followers_count\": 0,\n",
            " \"normal_followers_count\": 69969,\n",
            " \"friends_count\": 5,\n",
            " \"listed_count\": 110,\n",
            " \"created_at\": \"Sat Oct 15 04:56:27 +0000 2011\",\n",
            " \"favourites_count\": 1014,\n",
            " \"utc_offset\": null,\n",
            " \"time_zone\": null,\n",
            " \"geo_enabled\": true,\n",
            " \"verified\": true,\n",
            " \"statuses_count\": 16138,\n",
            " \"media_count\": 3060,\n",
            " \"lang\": null,\n",
            " \"status\": {\n",
            "  \"created_at\": \"Sun Mar 12 04:30:00 +0000 2023\",\n",
            "  \"id\": 1634773713294880770,\n",
            "  \"id_str\": \"1634773713294880770\",\n",
            "  \"text\": \"A rishta that grows with time!\\n\\nA top-up whenever you need. Enjoy top-ups for more than 100%* of home loans with Fe\\u2026 https://t.co/KsdboeWjDw\",\n",
            "  \"truncated\": true,\n",
            "  \"entities\": {\n",
            "   \"hashtags\": [],\n",
            "   \"symbols\": [],\n",
            "   \"user_mentions\": [],\n",
            "   \"urls\": [\n",
            "    {\n",
            "     \"url\": \"https://t.co/KsdboeWjDw\",\n",
            "     \"expanded_url\": \"https://twitter.com/i/web/status/1634773713294880770\",\n",
            "     \"display_url\": \"twitter.com/i/web/status/1\\u2026\",\n",
            "     \"indices\": [\n",
            "      117,\n",
            "      140\n",
            "     ]\n",
            "    }\n",
            "   ]\n",
            "  },\n",
            "  \"source\": \"<a href=\\\"https://mobile.twitter.com\\\" rel=\\\"nofollow\\\">Twitter Web App</a>\",\n",
            "  \"in_reply_to_status_id\": null,\n",
            "  \"in_reply_to_status_id_str\": null,\n",
            "  \"in_reply_to_user_id\": null,\n",
            "  \"in_reply_to_user_id_str\": null,\n",
            "  \"in_reply_to_screen_name\": null,\n",
            "  \"geo\": null,\n",
            "  \"coordinates\": null,\n",
            "  \"place\": null,\n",
            "  \"contributors\": null,\n",
            "  \"is_quote_status\": false,\n",
            "  \"retweet_count\": 1,\n",
            "  \"favorite_count\": 10,\n",
            "  \"favorited\": false,\n",
            "  \"retweeted\": false,\n",
            "  \"possibly_sensitive\": false,\n",
            "  \"possibly_sensitive_editable\": true,\n",
            "  \"lang\": \"en\",\n",
            "  \"supplemental_language\": null\n",
            " },\n",
            " \"contributors_enabled\": false,\n",
            " \"is_translator\": false,\n",
            " \"is_translation_enabled\": false,\n",
            " \"profile_background_color\": \"C0DEED\",\n",
            " \"profile_background_image_url\": \"http://abs.twimg.com/images/themes/theme1/bg.png\",\n",
            " \"profile_background_image_url_https\": \"https://abs.twimg.com/images/themes/theme1/bg.png\",\n",
            " \"profile_background_tile\": true,\n",
            " \"profile_image_url\": \"http://pbs.twimg.com/profile_images/1383092873520816129/bSk9I8CF_normal.jpg\",\n",
            " \"profile_image_url_https\": \"https://pbs.twimg.com/profile_images/1383092873520816129/bSk9I8CF_normal.jpg\",\n",
            " \"profile_banner_url\": \"https://pbs.twimg.com/profile_banners/391171875/1677484689\",\n",
            " \"profile_link_color\": \"2EA2F5\",\n",
            " \"profile_sidebar_border_color\": \"FFFFFF\",\n",
            " \"profile_sidebar_fill_color\": \"FBA61C\",\n",
            " \"profile_text_color\": \"000000\",\n",
            " \"profile_use_background_image\": true,\n",
            " \"has_extended_profile\": false,\n",
            " \"default_profile\": false,\n",
            " \"default_profile_image\": false,\n",
            " \"pinned_tweet_ids\": [],\n",
            " \"pinned_tweet_ids_str\": [],\n",
            " \"has_custom_timelines\": true,\n",
            " \"following\": null,\n",
            " \"follow_request_sent\": null,\n",
            " \"notifications\": null,\n",
            " \"advertiser_account_type\": \"promotable_user\",\n",
            " \"advertiser_account_service_levels\": [\n",
            "  \"smb\",\n",
            "  \"reseller\"\n",
            " ],\n",
            " \"business_profile_state\": \"none\",\n",
            " \"translator_type\": \"none\",\n",
            " \"withheld_in_countries\": [],\n",
            " \"require_some_consent\": false\n",
            "}\n"
          ]
        }
      ]
    },
    {
      "cell_type": "code",
      "source": [
        "import pandas as pd\n",
        "from pandas.io.json import json_normalize\n",
        "import warnings\n",
        "warnings.filterwarnings(\"ignore\")"
      ],
      "metadata": {
        "id": "LZFu0EUY98wJ"
      },
      "execution_count": null,
      "outputs": []
    },
    {
      "cell_type": "code",
      "source": [
        "raw_tweets = pd.read_json(r'twitter_api_data.json', lines=True)\n",
        "# raw_tweets = raw_tweets[raw_tweets['lang']=='en']\n",
        "print(\"Shape: \", raw_tweets.shape)\n",
        "raw_tweets.head(5)"
      ],
      "metadata": {
        "colab": {
          "base_uri": "https://localhost:8080/",
          "height": 261
        },
        "id": "07ysZ8q7-YaP",
        "outputId": "5cdc41ba-6d84-4cf7-8286-e21e19b0384b"
      },
      "execution_count": null,
      "outputs": [
        {
          "output_type": "stream",
          "name": "stdout",
          "text": [
            "Shape:  (1, 55)\n"
          ]
        },
        {
          "output_type": "execute_result",
          "data": {
            "text/plain": [
              "          id     id_str              name     screen_name location  \\\n",
              "0  391171875  391171875  Federal Bank Ltd  FederalBankLtd    India   \n",
              "\n",
              "   profile_location                                        description  \\\n",
              "0               NaN  A leading Indian Private Sector Bank, offering...   \n",
              "\n",
              "                       url                                           entities  \\\n",
              "0  https://t.co/8cvBBZ9dhz  {'url': {'urls': [{'url': 'https://t.co/8cvBBZ...   \n",
              "\n",
              "   protected  ...  has_custom_timelines  following  follow_request_sent  \\\n",
              "0      False  ...                  True        NaN                  NaN   \n",
              "\n",
              "   notifications  advertiser_account_type advertiser_account_service_levels  \\\n",
              "0            NaN          promotable_user                   [smb, reseller]   \n",
              "\n",
              "   business_profile_state  translator_type  withheld_in_countries  \\\n",
              "0                    none             none                     []   \n",
              "\n",
              "   require_some_consent  \n",
              "0                 False  \n",
              "\n",
              "[1 rows x 55 columns]"
            ],
            "text/html": [
              "\n",
              "  <div id=\"df-98ae5eb6-9961-4c71-9998-f81c48cf5749\">\n",
              "    <div class=\"colab-df-container\">\n",
              "      <div>\n",
              "<style scoped>\n",
              "    .dataframe tbody tr th:only-of-type {\n",
              "        vertical-align: middle;\n",
              "    }\n",
              "\n",
              "    .dataframe tbody tr th {\n",
              "        vertical-align: top;\n",
              "    }\n",
              "\n",
              "    .dataframe thead th {\n",
              "        text-align: right;\n",
              "    }\n",
              "</style>\n",
              "<table border=\"1\" class=\"dataframe\">\n",
              "  <thead>\n",
              "    <tr style=\"text-align: right;\">\n",
              "      <th></th>\n",
              "      <th>id</th>\n",
              "      <th>id_str</th>\n",
              "      <th>name</th>\n",
              "      <th>screen_name</th>\n",
              "      <th>location</th>\n",
              "      <th>profile_location</th>\n",
              "      <th>description</th>\n",
              "      <th>url</th>\n",
              "      <th>entities</th>\n",
              "      <th>protected</th>\n",
              "      <th>...</th>\n",
              "      <th>has_custom_timelines</th>\n",
              "      <th>following</th>\n",
              "      <th>follow_request_sent</th>\n",
              "      <th>notifications</th>\n",
              "      <th>advertiser_account_type</th>\n",
              "      <th>advertiser_account_service_levels</th>\n",
              "      <th>business_profile_state</th>\n",
              "      <th>translator_type</th>\n",
              "      <th>withheld_in_countries</th>\n",
              "      <th>require_some_consent</th>\n",
              "    </tr>\n",
              "  </thead>\n",
              "  <tbody>\n",
              "    <tr>\n",
              "      <th>0</th>\n",
              "      <td>391171875</td>\n",
              "      <td>391171875</td>\n",
              "      <td>Federal Bank Ltd</td>\n",
              "      <td>FederalBankLtd</td>\n",
              "      <td>India</td>\n",
              "      <td>NaN</td>\n",
              "      <td>A leading Indian Private Sector Bank, offering...</td>\n",
              "      <td>https://t.co/8cvBBZ9dhz</td>\n",
              "      <td>{'url': {'urls': [{'url': 'https://t.co/8cvBBZ...</td>\n",
              "      <td>False</td>\n",
              "      <td>...</td>\n",
              "      <td>True</td>\n",
              "      <td>NaN</td>\n",
              "      <td>NaN</td>\n",
              "      <td>NaN</td>\n",
              "      <td>promotable_user</td>\n",
              "      <td>[smb, reseller]</td>\n",
              "      <td>none</td>\n",
              "      <td>none</td>\n",
              "      <td>[]</td>\n",
              "      <td>False</td>\n",
              "    </tr>\n",
              "  </tbody>\n",
              "</table>\n",
              "<p>1 rows × 55 columns</p>\n",
              "</div>\n",
              "      <button class=\"colab-df-convert\" onclick=\"convertToInteractive('df-98ae5eb6-9961-4c71-9998-f81c48cf5749')\"\n",
              "              title=\"Convert this dataframe to an interactive table.\"\n",
              "              style=\"display:none;\">\n",
              "        \n",
              "  <svg xmlns=\"http://www.w3.org/2000/svg\" height=\"24px\"viewBox=\"0 0 24 24\"\n",
              "       width=\"24px\">\n",
              "    <path d=\"M0 0h24v24H0V0z\" fill=\"none\"/>\n",
              "    <path d=\"M18.56 5.44l.94 2.06.94-2.06 2.06-.94-2.06-.94-.94-2.06-.94 2.06-2.06.94zm-11 1L8.5 8.5l.94-2.06 2.06-.94-2.06-.94L8.5 2.5l-.94 2.06-2.06.94zm10 10l.94 2.06.94-2.06 2.06-.94-2.06-.94-.94-2.06-.94 2.06-2.06.94z\"/><path d=\"M17.41 7.96l-1.37-1.37c-.4-.4-.92-.59-1.43-.59-.52 0-1.04.2-1.43.59L10.3 9.45l-7.72 7.72c-.78.78-.78 2.05 0 2.83L4 21.41c.39.39.9.59 1.41.59.51 0 1.02-.2 1.41-.59l7.78-7.78 2.81-2.81c.8-.78.8-2.07 0-2.86zM5.41 20L4 18.59l7.72-7.72 1.47 1.35L5.41 20z\"/>\n",
              "  </svg>\n",
              "      </button>\n",
              "      \n",
              "  <style>\n",
              "    .colab-df-container {\n",
              "      display:flex;\n",
              "      flex-wrap:wrap;\n",
              "      gap: 12px;\n",
              "    }\n",
              "\n",
              "    .colab-df-convert {\n",
              "      background-color: #E8F0FE;\n",
              "      border: none;\n",
              "      border-radius: 50%;\n",
              "      cursor: pointer;\n",
              "      display: none;\n",
              "      fill: #1967D2;\n",
              "      height: 32px;\n",
              "      padding: 0 0 0 0;\n",
              "      width: 32px;\n",
              "    }\n",
              "\n",
              "    .colab-df-convert:hover {\n",
              "      background-color: #E2EBFA;\n",
              "      box-shadow: 0px 1px 2px rgba(60, 64, 67, 0.3), 0px 1px 3px 1px rgba(60, 64, 67, 0.15);\n",
              "      fill: #174EA6;\n",
              "    }\n",
              "\n",
              "    [theme=dark] .colab-df-convert {\n",
              "      background-color: #3B4455;\n",
              "      fill: #D2E3FC;\n",
              "    }\n",
              "\n",
              "    [theme=dark] .colab-df-convert:hover {\n",
              "      background-color: #434B5C;\n",
              "      box-shadow: 0px 1px 3px 1px rgba(0, 0, 0, 0.15);\n",
              "      filter: drop-shadow(0px 1px 2px rgba(0, 0, 0, 0.3));\n",
              "      fill: #FFFFFF;\n",
              "    }\n",
              "  </style>\n",
              "\n",
              "      <script>\n",
              "        const buttonEl =\n",
              "          document.querySelector('#df-98ae5eb6-9961-4c71-9998-f81c48cf5749 button.colab-df-convert');\n",
              "        buttonEl.style.display =\n",
              "          google.colab.kernel.accessAllowed ? 'block' : 'none';\n",
              "\n",
              "        async function convertToInteractive(key) {\n",
              "          const element = document.querySelector('#df-98ae5eb6-9961-4c71-9998-f81c48cf5749');\n",
              "          const dataTable =\n",
              "            await google.colab.kernel.invokeFunction('convertToInteractive',\n",
              "                                                     [key], {});\n",
              "          if (!dataTable) return;\n",
              "\n",
              "          const docLinkHtml = 'Like what you see? Visit the ' +\n",
              "            '<a target=\"_blank\" href=https://colab.research.google.com/notebooks/data_table.ipynb>data table notebook</a>'\n",
              "            + ' to learn more about interactive tables.';\n",
              "          element.innerHTML = '';\n",
              "          dataTable['output_type'] = 'display_data';\n",
              "          await google.colab.output.renderOutput(dataTable, element);\n",
              "          const docLink = document.createElement('div');\n",
              "          docLink.innerHTML = docLinkHtml;\n",
              "          element.appendChild(docLink);\n",
              "        }\n",
              "      </script>\n",
              "    </div>\n",
              "  </div>\n",
              "  "
            ]
          },
          "metadata": {},
          "execution_count": 4
        }
      ]
    },
    {
      "cell_type": "code",
      "source": [
        "import requests\n",
        "from bs4 import BeautifulSoup"
      ],
      "metadata": {
        "id": "P2NVqeaI-8HE"
      },
      "execution_count": null,
      "outputs": []
    },
    {
      "cell_type": "code",
      "source": [
        "!pip install instaloader\n",
        "!pip install pandas"
      ],
      "metadata": {
        "colab": {
          "base_uri": "https://localhost:8080/"
        },
        "id": "VMyk1cSxB__I",
        "outputId": "a51677a6-5dde-44f8-aebe-e0d4856da474"
      },
      "execution_count": null,
      "outputs": [
        {
          "output_type": "stream",
          "name": "stdout",
          "text": [
            "Looking in indexes: https://pypi.org/simple, https://us-python.pkg.dev/colab-wheels/public/simple/\n",
            "Collecting instaloader\n",
            "  Downloading instaloader-4.9.6.tar.gz (60 kB)\n",
            "\u001b[2K     \u001b[90m━━━━━━━━━━━━━━━━━━━━━━━━━━━━━━━━━━━━━━━━\u001b[0m \u001b[32m60.5/60.5 KB\u001b[0m \u001b[31m3.6 MB/s\u001b[0m eta \u001b[36m0:00:00\u001b[0m\n",
            "\u001b[?25h  Preparing metadata (setup.py) ... \u001b[?25l\u001b[?25hdone\n",
            "Requirement already satisfied: requests>=2.4 in /usr/local/lib/python3.9/dist-packages (from instaloader) (2.27.1)\n",
            "Requirement already satisfied: urllib3<1.27,>=1.21.1 in /usr/local/lib/python3.9/dist-packages (from requests>=2.4->instaloader) (1.26.14)\n",
            "Requirement already satisfied: charset-normalizer~=2.0.0 in /usr/local/lib/python3.9/dist-packages (from requests>=2.4->instaloader) (2.0.12)\n",
            "Requirement already satisfied: certifi>=2017.4.17 in /usr/local/lib/python3.9/dist-packages (from requests>=2.4->instaloader) (2022.12.7)\n",
            "Requirement already satisfied: idna<4,>=2.5 in /usr/local/lib/python3.9/dist-packages (from requests>=2.4->instaloader) (2.10)\n",
            "Building wheels for collected packages: instaloader\n",
            "  Building wheel for instaloader (setup.py) ... \u001b[?25l\u001b[?25hdone\n",
            "  Created wheel for instaloader: filename=instaloader-4.9.6-py3-none-any.whl size=62329 sha256=860ba72869026985bb86dfdace611f15a7607b118972a72a947570af62101b0b\n",
            "  Stored in directory: /root/.cache/pip/wheels/17/c8/6f/fd185ae255bb878d9f2bdb83f27a4a2b383583857167557aee\n",
            "Successfully built instaloader\n",
            "Installing collected packages: instaloader\n",
            "Successfully installed instaloader-4.9.6\n",
            "Looking in indexes: https://pypi.org/simple, https://us-python.pkg.dev/colab-wheels/public/simple/\n",
            "Requirement already satisfied: pandas in /usr/local/lib/python3.9/dist-packages (1.3.5)\n",
            "Requirement already satisfied: pytz>=2017.3 in /usr/local/lib/python3.9/dist-packages (from pandas) (2022.7.1)\n",
            "Requirement already satisfied: numpy>=1.17.3 in /usr/local/lib/python3.9/dist-packages (from pandas) (1.22.4)\n",
            "Requirement already satisfied: python-dateutil>=2.7.3 in /usr/local/lib/python3.9/dist-packages (from pandas) (2.8.2)\n",
            "Requirement already satisfied: six>=1.5 in /usr/local/lib/python3.9/dist-packages (from python-dateutil>=2.7.3->pandas) (1.15.0)\n"
          ]
        }
      ]
    },
    {
      "cell_type": "code",
      "source": [
        "pip install pytube"
      ],
      "metadata": {
        "colab": {
          "base_uri": "https://localhost:8080/"
        },
        "id": "eO9TGwSpDSvA",
        "outputId": "9405d231-f291-486d-a9fa-1ba49c0253d0"
      },
      "execution_count": null,
      "outputs": [
        {
          "output_type": "stream",
          "name": "stdout",
          "text": [
            "Looking in indexes: https://pypi.org/simple, https://us-python.pkg.dev/colab-wheels/public/simple/\n",
            "Collecting pytube\n",
            "  Downloading pytube-12.1.2-py3-none-any.whl (57 kB)\n",
            "\u001b[2K     \u001b[90m━━━━━━━━━━━━━━━━━━━━━━━━━━━━━━━━━━━━━━━━\u001b[0m \u001b[32m57.0/57.0 KB\u001b[0m \u001b[31m3.2 MB/s\u001b[0m eta \u001b[36m0:00:00\u001b[0m\n",
            "\u001b[?25hInstalling collected packages: pytube\n",
            "Successfully installed pytube-12.1.2\n"
          ]
        }
      ]
    },
    {
      "cell_type": "code",
      "source": [
        "from pytube import YouTube\n",
        "\n",
        "yt = YouTube('https://www.youtube.com/watch?v=lATDwUSa4co')\n",
        "print(yt)\n",
        "print(\"Title:-\", yt.title)\n",
        "print(\"View\",yt.views)\n",
        "print(\"length\",yt.length)\n",
        "print(\"thumbnail\",yt.thumbnail_url)\n",
        "print(\"rating\",yt.rating)\n",
        "print(yt.streams)\n",
        "print(yt.channel_id)\n",
        "print(yt.captions)\n",
        "print(yt.metadata)"
      ],
      "metadata": {
        "colab": {
          "base_uri": "https://localhost:8080/"
        },
        "id": "zBrieV8NCIFr",
        "outputId": "f5df3c89-d478-45fc-ce87-f9450474f49f"
      },
      "execution_count": 10,
      "outputs": [
        {
          "output_type": "stream",
          "name": "stdout",
          "text": [
            "<pytube.__main__.YouTube object: videoId=lATDwUSa4co>\n",
            "Title:- #RishtasOfSuccess\n",
            "View 1539\n",
            "length 165\n",
            "thumbnail https://i.ytimg.com/vi/lATDwUSa4co/sddefault.jpg?sqp=-oaymwEmCIAFEOAD8quKqQMa8AEB-AH-CYAC0AWKAgwIABABGHIgTig9MA8=&rs=AOn4CLARkllEVRYERZxUVcDvNpXQaSjaMA\n",
            "rating None\n",
            "[<Stream: itag=\"17\" mime_type=\"video/3gpp\" res=\"144p\" fps=\"12fps\" vcodec=\"mp4v.20.3\" acodec=\"mp4a.40.2\" progressive=\"True\" type=\"video\">, <Stream: itag=\"18\" mime_type=\"video/mp4\" res=\"360p\" fps=\"24fps\" vcodec=\"avc1.42001E\" acodec=\"mp4a.40.2\" progressive=\"True\" type=\"video\">, <Stream: itag=\"22\" mime_type=\"video/mp4\" res=\"720p\" fps=\"24fps\" vcodec=\"avc1.64001F\" acodec=\"mp4a.40.2\" progressive=\"True\" type=\"video\">, <Stream: itag=\"313\" mime_type=\"video/webm\" res=\"2160p\" fps=\"24fps\" vcodec=\"vp9\" progressive=\"False\" type=\"video\">, <Stream: itag=\"271\" mime_type=\"video/webm\" res=\"1440p\" fps=\"24fps\" vcodec=\"vp9\" progressive=\"False\" type=\"video\">, <Stream: itag=\"137\" mime_type=\"video/mp4\" res=\"1080p\" fps=\"24fps\" vcodec=\"avc1.640028\" progressive=\"False\" type=\"video\">, <Stream: itag=\"248\" mime_type=\"video/webm\" res=\"1080p\" fps=\"24fps\" vcodec=\"vp9\" progressive=\"False\" type=\"video\">, <Stream: itag=\"136\" mime_type=\"video/mp4\" res=\"720p\" fps=\"24fps\" vcodec=\"avc1.64001f\" progressive=\"False\" type=\"video\">, <Stream: itag=\"247\" mime_type=\"video/webm\" res=\"720p\" fps=\"24fps\" vcodec=\"vp9\" progressive=\"False\" type=\"video\">, <Stream: itag=\"135\" mime_type=\"video/mp4\" res=\"480p\" fps=\"24fps\" vcodec=\"avc1.4d401e\" progressive=\"False\" type=\"video\">, <Stream: itag=\"244\" mime_type=\"video/webm\" res=\"480p\" fps=\"24fps\" vcodec=\"vp9\" progressive=\"False\" type=\"video\">, <Stream: itag=\"134\" mime_type=\"video/mp4\" res=\"360p\" fps=\"24fps\" vcodec=\"avc1.4d401e\" progressive=\"False\" type=\"video\">, <Stream: itag=\"243\" mime_type=\"video/webm\" res=\"360p\" fps=\"24fps\" vcodec=\"vp9\" progressive=\"False\" type=\"video\">, <Stream: itag=\"133\" mime_type=\"video/mp4\" res=\"240p\" fps=\"24fps\" vcodec=\"avc1.4d4015\" progressive=\"False\" type=\"video\">, <Stream: itag=\"242\" mime_type=\"video/webm\" res=\"240p\" fps=\"24fps\" vcodec=\"vp9\" progressive=\"False\" type=\"video\">, <Stream: itag=\"160\" mime_type=\"video/mp4\" res=\"144p\" fps=\"24fps\" vcodec=\"avc1.4d400c\" progressive=\"False\" type=\"video\">, <Stream: itag=\"278\" mime_type=\"video/webm\" res=\"144p\" fps=\"24fps\" vcodec=\"vp9\" progressive=\"False\" type=\"video\">, <Stream: itag=\"139\" mime_type=\"audio/mp4\" abr=\"48kbps\" acodec=\"mp4a.40.5\" progressive=\"False\" type=\"audio\">, <Stream: itag=\"140\" mime_type=\"audio/mp4\" abr=\"128kbps\" acodec=\"mp4a.40.2\" progressive=\"False\" type=\"audio\">, <Stream: itag=\"249\" mime_type=\"audio/webm\" abr=\"50kbps\" acodec=\"opus\" progressive=\"False\" type=\"audio\">, <Stream: itag=\"250\" mime_type=\"audio/webm\" abr=\"70kbps\" acodec=\"opus\" progressive=\"False\" type=\"audio\">, <Stream: itag=\"251\" mime_type=\"audio/webm\" abr=\"160kbps\" acodec=\"opus\" progressive=\"False\" type=\"audio\">]\n",
            "UCGcGlW8cAjlN_VYXtjTs4Gg\n",
            "{'a.en': <Caption lang=\"English (auto-generated)\" code=\"a.en\">}\n",
            "[]\n"
          ]
        }
      ]
    }
  ]
}